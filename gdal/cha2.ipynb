{
 "cells": [
  {
   "attachments": {},
   "cell_type": "markdown",
   "metadata": {},
   "source": [
    "# python 与地理空间信息系统\n",
    "- 测试距离:\n",
    "对于给定的大部分坐标系都是未经投影转换的十进制度数格式,测试两点距离的可选方案：\n",
    "1. 重投影到一个精确的笛卡尔坐标系计算两点距离\n",
    "2. 只使用半正矢公式\n",
    "3. 精度更高的Vincenty公式\n",
    "4. 勾股定理计算(度数转弧度，勾股公式计算出距离)，存在较大误差是因为与大圆距离(也叫球面距离)有关"
   ]
  },
  {
   "cell_type": "code",
   "execution_count": 1,
   "metadata": {},
   "outputs": [
    {
     "data": {
      "text/plain": [
       "241.90229653804826"
      ]
     },
     "execution_count": 1,
     "metadata": {},
     "output_type": "execute_result"
    }
   ],
   "source": [
    "# 半正矢公式\n",
    "import math\n",
    "x1=-90.212452\n",
    "y1=32.32627\n",
    "x2=-88.95217\n",
    "y2=30.43855\n",
    "x_dist=math.radians(x1-x2)\n",
    "y_dist=math.radians(y1-y2)\n",
    "y1_rad=math.radians(y1)\n",
    "y2_rad=math.radians(y2)\n",
    "a=math.sin(y_dist/2)**2+math.sin(x_dist/2)**2*math.cos(y1_rad)*math.cos(y2_rad)\n",
    "c=2*math.asin(math.sqrt(a))\n",
    "distance=c*6379\n",
    "distance\n"
   ]
  }
 ],
 "metadata": {
  "kernelspec": {
   "display_name": "base",
   "language": "python",
   "name": "python3"
  },
  "language_info": {
   "codemirror_mode": {
    "name": "ipython",
    "version": 3
   },
   "file_extension": ".py",
   "mimetype": "text/x-python",
   "name": "python",
   "nbconvert_exporter": "python",
   "pygments_lexer": "ipython3",
   "version": "3.10.11"
  },
  "orig_nbformat": 4
 },
 "nbformat": 4,
 "nbformat_minor": 2
}
