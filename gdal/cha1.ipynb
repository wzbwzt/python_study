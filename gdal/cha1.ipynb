{
 "cells": [
  {
   "attachments": {},
   "cell_type": "markdown",
   "metadata": {},
   "source": [
    "介绍地理信息数据处理过程中使用的基本库以及使用demo \n",
    "- urllib\n",
    "- minidom:适合处理<20M的文件，过大的话会有效率问题\n",
    "- zipfile\n",
    "- tarfile\n",
    "- ElementTree: 更高级的xml解析器，有多语言版本，cElementTree效率更加高效\n",
    "- BeautifulSoup: 绝大多数xml文档没有按照规范编写，并且包含许多的格式错误以及无效字符串，在地理空间分析中这种情况更为明显，所以需要一款解析器来获取问题格式文件中的数据,beautifulsoup 可以优雅的使用那些基于标签的数据，即使他们格式非常糟糕\n",
    "- lxml: 功能更加强大的xml解析库\n",
    "- shapely: 读写wkt、wkb文本\n",
    "\n",
    "    wkb(well-know binary):将wkt格式的字符串以二进制对象的形式存储在数据库中\n",
    "- json/geojson : 处理geojson 数据；虽然可以通过eval(jsondata)直接将jsondata转换为python中的数据结构，但是这是不安全的，因为json支持一些python不支持的字符集，而不单单像看上去的那样是python字典和list对象的嵌套组合\n",
    "- pyshp: 读写shapefile;只调用python标准库\n",
    "- dbfpy3:专门处理dbf文件,安装\n"
   ]
  },
  {
   "cell_type": "code",
   "execution_count": 5,
   "metadata": {},
   "outputs": [],
   "source": [
    "%config Completer.use_jedi = False"
   ]
  },
  {
   "cell_type": "code",
   "execution_count": 3,
   "metadata": {},
   "outputs": [
    {
     "data": {
      "text/plain": [
       "'3.6.2'"
      ]
     },
     "execution_count": 3,
     "metadata": {},
     "output_type": "execute_result"
    }
   ],
   "source": [
    "from osgeo import gdal\n",
    "gdal.__version__"
   ]
  },
  {
   "cell_type": "code",
   "execution_count": null,
   "metadata": {},
   "outputs": [],
   "source": [
    "import urllib.request\n",
    "import urllib.parse\n",
    "import urllib.error\n",
    "\n",
    "\n",
    "url=\"https://github.com/GeospatialPython/Learn/raw/master/hancock.zip\"\n",
    "filename=\"hancock.zip\"\n",
    "urllib.request.urlretrieve(url,filename)\n",
    "\n",
    "\n",
    "import zipfile\n",
    "zip=open(\"hancock.zip\", \"rb\")\n",
    "zipShape=zipfile.ZipFile(zip)\n",
    "shpname,shxName,dbName= zipShape.namelist()\n",
    "for filename in zipShape.namelist():\n",
    "    out= open(filename,\"wb\")\n",
    "    out.write(zipShape.read(filename))\n",
    "    out.close()"
   ]
  },
  {
   "cell_type": "code",
   "execution_count": null,
   "metadata": {},
   "outputs": [],
   "source": [
    "import urllib.request\n",
    "import urllib.parse\n",
    "import urllib.error\n",
    "import zipfile\n",
    "import io\n",
    "import struct\n",
    "\n",
    "# 直接读取线上压缩包，无需下载到磁盘，内存中直接读取\n",
    "url=\"https://github.com/GeospatialPython/Learn/raw/master/hancock.zip\"\n",
    "cloudshape=urllib.request.urlopen(url)\n",
    "memoryshape= io.BytesIO(cloudshape.read())\n",
    "zipshape= zipfile.ZipFile(memoryshape)\n",
    "cloudshape= zipshape.read(\"hancock.shp\")\n",
    "struct.unpack(\"<dddd\",cloudshape[36:68])\n",
    "\n"
   ]
  },
  {
   "cell_type": "code",
   "execution_count": 2,
   "metadata": {},
   "outputs": [
    {
     "data": {
      "text/plain": [
       "'-122.536226,37.86047,0'"
      ]
     },
     "execution_count": 2,
     "metadata": {},
     "output_type": "execute_result"
    }
   ],
   "source": [
    "from xml.dom import minidom\n",
    "kml= minidom.parse(\"time-stamp-point.kml\")\n",
    "placemarks=kml.getElementsByTagNamentsByTagName(\"Placemark\")\n",
    "len(placemarks)\n",
    "\n",
    "first=placemarks[0]\n",
    "first.toprettyxml()\n",
    "\n",
    "coordinates= first.getElementsByTagName(\"coordinates\")\n",
    "point=coordinates[0].firstChild.data\n",
    "point\n"
   ]
  },
  {
   "cell_type": "code",
   "execution_count": 27,
   "metadata": {},
   "outputs": [
    {
     "name": "stdout",
     "output_type": "stream",
     "text": [
      "<Element '{http://www.opengis.net/kml/2.2}Placemark' at 0x7f94b2bc1590>\n",
      "<Element '{http://www.opengis.net/kml/2.2}coordinates' at 0x7f94b2bc1cc0>\n"
     ]
    }
   ],
   "source": [
    "try:\n",
    "    import xml.etree.cElementTree as ET\n",
    "except ImportError:\n",
    "    import xml.etree.ElementTree as ET\n",
    "\n",
    "\n",
    "tree=ET.ElementTree(file=\"time-stamp-point.kml\")\n",
    "\n",
    "ns=\"{http://www.opengis.net/kml/2.2}\"\n",
    "placemarks= tree.find(\".//{}Placemark\".format(ns))\n",
    "print(placemarks)\n",
    "coordinates= placemarks.find(\"./{}Point/{}coordinates\".format(ns,ns))\n",
    "print(coordinates)\n",
    "coordinates.text\n",
    "\n",
    "# 构建xml\n",
    "root=ET.Element(\"kml\")\n",
    "root.attrib[\"xmlns\"]=\"http://www.opengis.net/kml/2.2\"\n",
    "placemark= ET.SubElement(root,\"Placemark\")\n",
    "office= ET.SubElement(placemark,\"name\")\n",
    "office.text=\"Office\"\n",
    "\n",
    "point= ET.SubElement(placemark,\"Point\")\n",
    "coordinates= ET.SubElement(point,\"coordinates\")\n",
    "coordinates.text=\"-122.536226,37.86047,0\"\n",
    "\n",
    "tree=ET.ElementTree(root)\n",
    "tree.write(\"placemark.kml\",xml_declaration=True,encoding=\"utf-8\",method=\"xml\")\n"
   ]
  },
  {
   "cell_type": "code",
   "execution_count": 33,
   "metadata": {},
   "outputs": [],
   "source": [
    "from bs4 import  BeautifulSoup\n",
    "import xml.etree.ElementTree as ET\n",
    "\n",
    "#broken_data.gpx 文件最后缺失了一个</trkseg> 闭合标签\n",
    "#ET.ElementTree(file=\"broken_data.gpx\") # 报错\n",
    "\n",
    "gpx=open(\"broken_data.gpx\")\n",
    "soup=BeautifulSoup(gpx.read(),features=\"xml\")\n",
    "soup.trkpt\n",
    "tracks=soup.findAll(\"trkpt\")\n",
    "len(tracks)\n",
    "\n",
    "# 重新输出正确的格式\n",
    "fixed=open(\"fix_data.gpx\",\"w\")\n",
    "fixed.write(soup.prettify())\n",
    "fixed.close()\n",
    "\n"
   ]
  },
  {
   "cell_type": "code",
   "execution_count": 2,
   "metadata": {},
   "outputs": [
    {
     "ename": "AttributeError",
     "evalue": "'NoneType' object has no attribute 'Getlayer'",
     "output_type": "error",
     "traceback": [
      "\u001b[1;31m---------------------------------------------------------------------------\u001b[0m",
      "\u001b[1;31mAttributeError\u001b[0m                            Traceback (most recent call last)",
      "Cell \u001b[1;32mIn[2], line 12\u001b[0m\n\u001b[0;32m     10\u001b[0m \u001b[39mfrom\u001b[39;00m \u001b[39mosgeo\u001b[39;00m  \u001b[39mimport\u001b[39;00m ogr\n\u001b[0;32m     11\u001b[0m shape\u001b[39m=\u001b[39mogr\u001b[39m.\u001b[39mOpen(\u001b[39m\"\u001b[39m\u001b[39mpolygon.shp\u001b[39m\u001b[39m\"\u001b[39m)\n\u001b[1;32m---> 12\u001b[0m layer\u001b[39m=\u001b[39m shape\u001b[39m.\u001b[39;49mGetlayer()\n\u001b[0;32m     13\u001b[0m feature\u001b[39m=\u001b[39m layer\u001b[39m.\u001b[39mGetNextFeature()\n\u001b[0;32m     14\u001b[0m geom\u001b[39m=\u001b[39m feature\u001b[39m.\u001b[39mGetGeometryRef()\n",
      "\u001b[1;31mAttributeError\u001b[0m: 'NoneType' object has no attribute 'Getlayer'"
     ]
    }
   ],
   "source": [
    "import shapely.wkt\n",
    "import urllib.request\n",
    "wktpoly=\"POLYGON((103.30266237500007 35.293222467212644,105.45598268750007 35.293222467212644,104.70891237500007 31.62819408858728,100.88567018750007 33.29662370215108,103.30266237500007 35.293222467212644))\"\n",
    "poly= shapely.wkt.loads(wktpoly)\n",
    "poly.area\n",
    "\n",
    "poly.wkt\n",
    "poly.wkb\n",
    "\n",
    "from osgeo  import ogr\n",
    "shape=ogr.Open(\"polygon.shp\")\n",
    "layer= shape.GetLayer()\n",
    "feature= layer.GetNextFeature()\n",
    "geom= feature.GetGeometryRef()\n",
    "wkt=geom.ExportToWkt()\n",
    "wkt\n",
    "\n",
    "poly=ogr.CreateGeometryFromWkt(wkt)\n",
    "poly.GetEnvelope()\n"
   ]
  },
  {
   "cell_type": "code",
   "execution_count": null,
   "metadata": {},
   "outputs": [],
   "source": []
  },
  {
   "cell_type": "code",
   "execution_count": 15,
   "metadata": {},
   "outputs": [
    {
     "data": {
      "text/plain": [
       "'POINT (-92 37)'"
      ]
     },
     "execution_count": 15,
     "metadata": {},
     "output_type": "execute_result"
    }
   ],
   "source": [
    "# geojson模块实现了python的__geo_interface__规范：该接口允许协作程序之间无缝传递数据，并且以python风格进行无需developer显式导入导出geojson.\n",
    "# 所以如果想将geojson模块创建的点提供给shapely模块使用，只需直接读取geojson module 创建的点对象到shapely对象即可，之后就能够获取其wkt格式的数据。\n",
    "import geojson\n",
    "p=geojson.Point([-92,37])\n",
    "geojs=geojson.dumps(p)\n",
    "geojs\n",
    "\n",
    "\n",
    "\n",
    "import shapely.geometry \n",
    "point= shapely.geometry.shape(p)\n",
    "point.wkt"
   ]
  },
  {
   "cell_type": "code",
   "execution_count": 3,
   "metadata": {},
   "outputs": [
    {
     "name": "stdout",
     "output_type": "stream",
     "text": [
      "1.0 1.0 First\n",
      "3.0 3.0 Second\n",
      "4.0 4.0 Third\n",
      "2.0 2.0 Fourth\n",
      "0.0 0.0 Appended\n"
     ]
    }
   ],
   "source": [
    "import shapefile\n",
    "shp=shapefile.Reader(\"point/point.shp\")\n",
    "for feature in shp.shapeRecords():\n",
    "    point=feature.shape.points[0]\n",
    "    rec=feature.record[0]\n",
    "    print(point[0],point[0],rec)"
   ]
  },
  {
   "cell_type": "code",
   "execution_count": 8,
   "metadata": {},
   "outputs": [
    {
     "ename": "ValueError",
     "evalue": "dbf fields definition is corrupt, fields start does not match.",
     "output_type": "error",
     "traceback": [
      "\u001b[1;31m---------------------------------------------------------------------------\u001b[0m",
      "\u001b[1;31mValueError\u001b[0m                                Traceback (most recent call last)",
      "Cell \u001b[1;32mIn[8], line 4\u001b[0m\n\u001b[0;32m      1\u001b[0m \u001b[39mimport\u001b[39;00m \u001b[39mdbfpy3\u001b[39;00m\u001b[39m.\u001b[39;00m\u001b[39mdbf\u001b[39;00m\n\u001b[0;32m      2\u001b[0m \u001b[39m# from dbfpy import dbf\u001b[39;00m\n\u001b[1;32m----> 4\u001b[0m db\u001b[39m=\u001b[39m dbfpy3\u001b[39m.\u001b[39;49mdbf\u001b[39m.\u001b[39;49mDbf(\u001b[39m\"\u001b[39;49m\u001b[39mGIS_CensusTract/GIS_CensusTract_poly.dbf\u001b[39;49m\u001b[39m\"\u001b[39;49m)\n\u001b[0;32m      5\u001b[0m \u001b[39mprint\u001b[39m(db[\u001b[39m0\u001b[39m])\n",
      "File \u001b[1;32md:\\wzb\\anaconda3\\lib\\site-packages\\dbfpy3\\dbf.py:112\u001b[0m, in \u001b[0;36mDbf.__init__\u001b[1;34m(self, file, read_only, new, ignore_errors, memo_file, code_page)\u001b[0m\n\u001b[0;32m    110\u001b[0m     \u001b[39mself\u001b[39m\u001b[39m.\u001b[39mheader \u001b[39m=\u001b[39m DbfHeader(code_page\u001b[39m=\u001b[39mcode_page)\n\u001b[0;32m    111\u001b[0m \u001b[39melse\u001b[39;00m:\n\u001b[1;32m--> 112\u001b[0m     \u001b[39mself\u001b[39m\u001b[39m.\u001b[39mheader \u001b[39m=\u001b[39m DbfHeader\u001b[39m.\u001b[39;49mparse(\u001b[39mself\u001b[39;49m\u001b[39m.\u001b[39;49mstream)\n\u001b[0;32m    114\u001b[0m \u001b[39m# for IDE inspection\u001b[39;00m\n\u001b[0;32m    115\u001b[0m \u001b[39mself\u001b[39m\u001b[39m.\u001b[39m_ignore_errors \u001b[39m=\u001b[39m \u001b[39mNone\u001b[39;00m\n",
      "File \u001b[1;32md:\\wzb\\anaconda3\\lib\\site-packages\\dbfpy3\\header.py:158\u001b[0m, in \u001b[0;36mDbfHeader.parse\u001b[1;34m(cls, stream)\u001b[0m\n\u001b[0;32m    156\u001b[0m field \u001b[39m=\u001b[39m DbfFields\u001b[39m.\u001b[39mparse(data, pos)\n\u001b[0;32m    157\u001b[0m \u001b[39mif\u001b[39;00m pos \u001b[39m!=\u001b[39m field\u001b[39m.\u001b[39mstart:\n\u001b[1;32m--> 158\u001b[0m     \u001b[39mraise\u001b[39;00m \u001b[39mValueError\u001b[39;00m(\n\u001b[0;32m    159\u001b[0m         \u001b[39m'\u001b[39m\u001b[39mdbf fields definition is corrupt, \u001b[39m\u001b[39m'\u001b[39m\n\u001b[0;32m    160\u001b[0m         \u001b[39m'\u001b[39m\u001b[39mfields start does not match.\u001b[39m\u001b[39m'\u001b[39m\n\u001b[0;32m    161\u001b[0m     )\n\u001b[0;32m    162\u001b[0m fields\u001b[39m.\u001b[39mappend(field)\n\u001b[0;32m    163\u001b[0m pos \u001b[39m=\u001b[39m field\u001b[39m.\u001b[39mstart \u001b[39m+\u001b[39m field\u001b[39m.\u001b[39mlength\n",
      "\u001b[1;31mValueError\u001b[0m: dbf fields definition is corrupt, fields start does not match."
     ]
    }
   ],
   "source": [
    "import dbfpy3.dbf\n",
    "db= dbfpy3.dbf.Dbf(\"GIS_CensusTract/GIS_CensusTract_poly.dbf\")\n",
    "print(db[0])"
   ]
  }
 ],
 "metadata": {
  "kernelspec": {
   "display_name": "Python 3 (ipykernel)",
   "language": "python",
   "name": "python3"
  },
  "language_info": {
   "codemirror_mode": {
    "name": "ipython",
    "version": 3
   },
   "file_extension": ".py",
   "mimetype": "text/x-python",
   "name": "python",
   "nbconvert_exporter": "python",
   "pygments_lexer": "ipython3",
   "version": "3.10.9"
  }
 },
 "nbformat": 4,
 "nbformat_minor": 4
}
