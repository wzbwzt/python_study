{
 "cells": [
  {
   "attachments": {},
   "cell_type": "markdown",
   "metadata": {},
   "source": [
    "介绍地理信息数据处理过程中使用的基本库以及使用demo \n",
    "- urllib\n",
    "- minidom:适合处理<20M的文件，过大的话会有效率问题\n",
    "- zipfile\n",
    "- tarfile\n",
    "- ElementTree: 更高级的xml解析器，有多语言版本，cElementTree效率更加高效\n",
    "- BeautifulSoup: 绝大多数xml文档没有按照规范编写，并且包含许多的格式错误以及无效字符串，在地理空间分析中这种情况更为明显，所以需要一款解析器来获取问题格式文件中的数据,beautifulsoup 可以优雅的使用那些基于标签的数据，即使他们格式非常糟糕\n",
    "- lxml: 功能更加强大的xml解析库\n",
    "- shapely: 读写wkt、wkb文本\n",
    "\n",
    "    wkb(well-know binary):将wkt格式的字符串以二进制对象的形式存储在数据库中\n"
   ]
  },
  {
   "cell_type": "code",
   "execution_count": null,
   "metadata": {},
   "outputs": [],
   "source": [
    "from osgeo import  gdal\n",
    "gdal.__version__"
   ]
  },
  {
   "cell_type": "code",
   "execution_count": null,
   "metadata": {},
   "outputs": [],
   "source": [
    "import urllib.request\n",
    "import urllib.parse\n",
    "import urllib.error\n",
    "\n",
    "url=\"https://github.com/GeospatialPython/Learn/raw/master/hancock.zip\"\n",
    "filename=\"hancock.zip\"\n",
    "urllib.request.urlretrieve(url,filename)\n",
    "\n",
    "import zipfile\n",
    "zip=open(\"hancock.zip\", \"rb\")\n",
    "zipShape=zipfile.ZipFile(zip)\n",
    "shpname,shxName,dbName= zipShape.namelist()\n",
    "for filename in zipShape.namelist():\n",
    "    out= open(filename,\"wb\")\n",
    "    out.write(zipShape.read(filename))\n",
    "    out.close()"
   ]
  },
  {
   "cell_type": "code",
   "execution_count": 5,
   "metadata": {},
   "outputs": [
    {
     "data": {
      "text/plain": [
       "(-89.6904544701547, 30.173943486533133, -89.32227546981174, 30.6483914869749)"
      ]
     },
     "execution_count": 5,
     "metadata": {},
     "output_type": "execute_result"
    }
   ],
   "source": [
    "import urllib.request\n",
    "import urllib.parse\n",
    "import urllib.error\n",
    "import zipfile\n",
    "import io\n",
    "import struct\n",
    "\n",
    "# 直接读取线上压缩包，无需下载到磁盘，内存中直接读取\n",
    "url=\"https://github.com/GeospatialPython/Learn/raw/master/hancock.zip\"\n",
    "cloudshape=urllib.request.urlopen(url)\n",
    "memoryshape= io.BytesIO(cloudshape.read())\n",
    "zipshape= zipfile.ZipFile(memoryshape)\n",
    "cloudshape= zipshape.read(\"hancock.shp\")\n",
    "struct.unpack(\"<dddd\",cloudshape[36:68])\n"
   ]
  },
  {
   "cell_type": "code",
   "execution_count": 14,
   "metadata": {},
   "outputs": [
    {
     "data": {
      "text/plain": [
       "'-122.536226,37.86047,0'"
      ]
     },
     "execution_count": 14,
     "metadata": {},
     "output_type": "execute_result"
    }
   ],
   "source": [
    "from xml.dom import minidom\n",
    "kml= minidom.parse(\"time-stamp-point.kml\")\n",
    "placemarks=kml.getElementsByTagName(\"Placemark\")\n",
    "len(placemarks)\n",
    "\n",
    "first=placemarks[0]\n",
    "first.toprettyxml()\n",
    "\n",
    "coordinates= first.getElementsByTagName(\"coordinates\")\n",
    "point=coordinates[0].firstChild.data\n",
    "point\n"
   ]
  },
  {
   "cell_type": "code",
   "execution_count": 27,
   "metadata": {},
   "outputs": [
    {
     "name": "stdout",
     "output_type": "stream",
     "text": [
      "<Element '{http://www.opengis.net/kml/2.2}Placemark' at 0x7f94b2bc1590>\n",
      "<Element '{http://www.opengis.net/kml/2.2}coordinates' at 0x7f94b2bc1cc0>\n"
     ]
    }
   ],
   "source": [
    "try:\n",
    "    import xml.etree.cElementTree as ET\n",
    "except ImportError:\n",
    "    import xml.etree.ElementTree as ET\n",
    "\n",
    "\n",
    "tree=ET.ElementTree(file=\"time-stamp-point.kml\")\n",
    "\n",
    "ns=\"{http://www.opengis.net/kml/2.2}\"\n",
    "placemarks= tree.find(\".//{}Placemark\".format(ns))\n",
    "print(placemarks)\n",
    "coordinates= placemarks.find(\"./{}Point/{}coordinates\".format(ns,ns))\n",
    "print(coordinates)\n",
    "coordinates.text\n",
    "\n",
    "# 构建xml\n",
    "root=ET.Element(\"kml\")\n",
    "root.attrib[\"xmlns\"]=\"http://www.opengis.net/kml/2.2\"\n",
    "placemark= ET.SubElement(root,\"Placemark\")\n",
    "office= ET.SubElement(placemark,\"name\")\n",
    "office.text=\"Office\"\n",
    "\n",
    "point= ET.SubElement(placemark,\"Point\")\n",
    "coordinates= ET.SubElement(point,\"coordinates\")\n",
    "coordinates.text=\"-122.536226,37.86047,0\"\n",
    "\n",
    "tree=ET.ElementTree(root)\n",
    "tree.write(\"placemark.kml\",xml_declaration=True,encoding=\"utf-8\",method=\"xml\")\n"
   ]
  },
  {
   "cell_type": "code",
   "execution_count": 33,
   "metadata": {},
   "outputs": [],
   "source": [
    "from bs4 import  BeautifulSoup\n",
    "import xml.etree.ElementTree as ET\n",
    "\n",
    "#broken_data.gpx 文件最后缺失了一个</trkseg> 闭合标签\n",
    "#ET.ElementTree(file=\"broken_data.gpx\") # 报错\n",
    "\n",
    "gpx=open(\"broken_data.gpx\")\n",
    "soup=BeautifulSoup(gpx.read(),features=\"xml\")\n",
    "soup.trkpt\n",
    "tracks=soup.findAll(\"trkpt\")\n",
    "len(tracks)\n",
    "\n",
    "# 重新输出正确的格式\n",
    "fixed=open(\"fix_data.gpx\",\"w\")\n",
    "fixed.write(soup.prettify())\n",
    "fixed.close()\n",
    "\n"
   ]
  },
  {
   "cell_type": "code",
   "execution_count": null,
   "metadata": {},
   "outputs": [],
   "source": [
    "import shapely.wkt\n",
    "import urllib.request\n",
    "wktpoly=\"POLYGON((103.30266237500007 35.293222467212644,105.45598268750007 35.293222467212644,104.70891237500007 31.62819408858728,100.88567018750007 33.29662370215108,103.30266237500007 35.293222467212644))\"\n",
    "poly= shapely.wkt.loads(wktpoly)\n",
    "poly.area\n",
    "\n",
    "poly.wkt\n",
    "poly.wkb\n",
    "\n",
    "from osgeo  import ogr\n",
    "shape=ogr.Open(\"polygon.shp\")\n",
    "layer= shape.GetLayer()\n",
    "feature= layer.GetNextFeature()\n",
    "geom= feature.GetGeometryRef()\n",
    "wkt=geom.ExportToWkt()\n",
    "wkt\n",
    "poly=ogr.CreateGeometryFromWkt(wkt)\n",
    "poly.GetEnvelope()\n"
   ]
  }
 ],
 "metadata": {
  "kernelspec": {
   "display_name": "Python 3",
   "language": "python",
   "name": "python3"
  },
  "language_info": {
   "codemirror_mode": {
    "name": "ipython",
    "version": 3
   },
   "file_extension": ".py",
   "mimetype": "text/x-python",
   "name": "python",
   "nbconvert_exporter": "python",
   "pygments_lexer": "ipython3",
   "version": "3.8.10"
  },
  "orig_nbformat": 4
 },
 "nbformat": 4,
 "nbformat_minor": 2
}
