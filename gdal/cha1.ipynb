{
 "cells": [
  {
   "attachments": {},
   "cell_type": "markdown",
   "metadata": {},
   "source": [
    "介绍地理信息数据处理过程中使用的基本库以及使用demo \n",
    "- urllib\n",
    "- minidom:适合处理<20M的文件，过大的话会有效率问题\n",
    "- zipfile\n",
    "- tarfile\n",
    "- ElementTree: 更高级的xml解析器，有多语言版本，cElementTree效率更加高效\n",
    "- BeautifulSoup: 绝大多数xml文档没有按照规范编写，并且包含许多的格式错误以及无效字符串，在地理空间分析中这种情况更为明显，所以需要一款解析器来获取问题格式文件中的数据,beautifulsoup 可以优雅的使用那些基于标签的数据，即使他们格式非常糟糕\n",
    "- lxml: 功能更加强大的xml解析库\n",
    "- shapely: 读写wkt、wkb文本;主要用途是通用几何库,python风格的几何操作库\n",
    "\n",
    "    wkb(well-know binary):将wkt格式的字符串以二进制对象的形式存储在数据库中\n",
    "- json/geojson : 处理geojson 数据；虽然可以通过eval(jsondata)直接将jsondata转换为python中的数据结构，但是这是不安全的，因为json支持一些python不支持的字符集，而不单单像看上去的那样是python字典和list对象的嵌套组合\n",
    "- pyshp: 读写shapefile;只调用python标准库\n",
    "- dbfpy3:专门处理dbf文件,安装: `pip install https://github.com/GeospatialPython/dbfpy3/archive/master.zip`\n",
    "- fiona: 为OGR库的数据访问功能提供一套简洁的python api\n",
    "- gdal: 栅格数据处理库\n",
    "- PIL: 一般用于图像编辑，栅格绘制图片\n",
    "- PNGCanvas: 轻量化的栅格化shapefile文件\n",
    "- geopandas: 由shapely,fiona,pyproj,matplotlib,descaretes以及其他库一同构建的pandas的地理空间扩展\n",
    "- PyFPDF: 轻量级的创建pdf文件"
   ]
  },
  {
   "cell_type": "code",
   "execution_count": 5,
   "metadata": {},
   "outputs": [],
   "source": [
    "%config Completer.use_jedi = False"
   ]
  },
  {
   "cell_type": "code",
   "execution_count": 3,
   "metadata": {},
   "outputs": [
    {
     "data": {
      "text/plain": [
       "'3.6.2'"
      ]
     },
     "execution_count": 3,
     "metadata": {},
     "output_type": "execute_result"
    }
   ],
   "source": [
    "from osgeo import gdal\n",
    "gdal.__version__"
   ]
  },
  {
   "cell_type": "code",
   "execution_count": null,
   "metadata": {},
   "outputs": [],
   "source": [
    "import urllib.request\n",
    "import urllib.parse\n",
    "import urllib.error\n",
    "\n",
    "\n",
    "url=\"https://github.com/GeospatialPython/Learn/raw/master/hancock.zip\"\n",
    "filename=\"hancock.zip\"\n",
    "urllib.request.urlretrieve(url,filename)\n",
    "\n",
    "\n",
    "import zipfile\n",
    "zip=open(\"hancock.zip\", \"rb\")\n",
    "zipShape=zipfile.ZipFile(zip)\n",
    "shpname,shxName,dbName= zipShape.namelist()\n",
    "for filename in zipShape.namelist():\n",
    "    out= open(filename,\"wb\")\n",
    "    out.write(zipShape.read(filename))\n",
    "    out.close()"
   ]
  },
  {
   "cell_type": "code",
   "execution_count": null,
   "metadata": {},
   "outputs": [],
   "source": [
    "import urllib.request\n",
    "import urllib.parse\n",
    "import urllib.error\n",
    "import zipfile\n",
    "import io\n",
    "import struct\n",
    "\n",
    "# 直接读取线上压缩包，无需下载到磁盘，内存中直接读取\n",
    "url=\"https://github.com/GeospatialPython/Learn/raw/master/hancock.zip\"\n",
    "cloudshape=urllib.request.urlopen(url)\n",
    "memoryshape= io.BytesIO(cloudshape.read())\n",
    "zipshape= zipfile.ZipFile(memoryshape)\n",
    "cloudshape= zipshape.read(\"hancock.shp\")\n",
    "struct.unpack(\"<dddd\",cloudshape[36:68])\n",
    "\n"
   ]
  },
  {
   "cell_type": "code",
   "execution_count": 2,
   "metadata": {},
   "outputs": [
    {
     "data": {
      "text/plain": [
       "'-122.536226,37.86047,0'"
      ]
     },
     "execution_count": 2,
     "metadata": {},
     "output_type": "execute_result"
    }
   ],
   "source": [
    "from xml.dom import minidom\n",
    "kml= minidom.parse(\"time-stamp-point.kml\")\n",
    "placemarks=kml.getElementsByTagNamentsByTagName(\"Placemark\")\n",
    "len(placemarks)\n",
    "\n",
    "first=placemarks[0]\n",
    "first.toprettyxml()\n",
    "\n",
    "coordinates= first.getElementsByTagName(\"coordinates\")\n",
    "point=coordinates[0].firstChild.data\n",
    "point\n"
   ]
  },
  {
   "cell_type": "code",
   "execution_count": 27,
   "metadata": {},
   "outputs": [
    {
     "name": "stdout",
     "output_type": "stream",
     "text": [
      "<Element '{http://www.opengis.net/kml/2.2}Placemark' at 0x7f94b2bc1590>\n",
      "<Element '{http://www.opengis.net/kml/2.2}coordinates' at 0x7f94b2bc1cc0>\n"
     ]
    }
   ],
   "source": [
    "try:\n",
    "    import xml.etree.cElementTree as ET\n",
    "except ImportError:\n",
    "    import xml.etree.ElementTree as ET\n",
    "\n",
    "\n",
    "tree=ET.ElementTree(file=\"time-stamp-point.kml\")\n",
    "\n",
    "ns=\"{http://www.opengis.net/kml/2.2}\"\n",
    "placemarks= tree.find(\".//{}Placemark\".format(ns))\n",
    "print(placemarks)\n",
    "coordinates= placemarks.find(\"./{}Point/{}coordinates\".format(ns,ns))\n",
    "print(coordinates)\n",
    "coordinates.text\n",
    "\n",
    "# 构建xml\n",
    "root=ET.Element(\"kml\")\n",
    "root.attrib[\"xmlns\"]=\"http://www.opengis.net/kml/2.2\"\n",
    "placemark= ET.SubElement(root,\"Placemark\")\n",
    "office= ET.SubElement(placemark,\"name\")\n",
    "office.text=\"Office\"\n",
    "\n",
    "point= ET.SubElement(placemark,\"Point\")\n",
    "coordinates= ET.SubElement(point,\"coordinates\")\n",
    "coordinates.text=\"-122.536226,37.86047,0\"\n",
    "\n",
    "tree=ET.ElementTree(root)\n",
    "tree.write(\"placemark.kml\",xml_declaration=True,encoding=\"utf-8\",method=\"xml\")\n"
   ]
  },
  {
   "cell_type": "code",
   "execution_count": 33,
   "metadata": {},
   "outputs": [],
   "source": [
    "from bs4 import  BeautifulSoup\n",
    "import xml.etree.ElementTree as ET\n",
    "\n",
    "#broken_data.gpx 文件最后缺失了一个</trkseg> 闭合标签\n",
    "#ET.ElementTree(file=\"broken_data.gpx\") # 报错\n",
    "\n",
    "gpx=open(\"broken_data.gpx\")\n",
    "soup=BeautifulSoup(gpx.read(),features=\"xml\")\n",
    "soup.trkpt\n",
    "tracks=soup.findAll(\"trkpt\")\n",
    "len(tracks)\n",
    "\n",
    "# 重新输出正确的格式\n",
    "fixed=open(\"fix_data.gpx\",\"w\")\n",
    "fixed.write(soup.prettify())\n",
    "fixed.close()\n",
    "\n"
   ]
  },
  {
   "cell_type": "code",
   "execution_count": 26,
   "metadata": {},
   "outputs": [
    {
     "name": "stdout",
     "output_type": "stream",
     "text": [
      "area: 9.779021012527032\n",
      "buf: 154.1934644134582\n",
      "diff: 144.4144434009312\n"
     ]
    }
   ],
   "source": [
    "import shapely.wkt\n",
    "import shapely.geometry\n",
    "\n",
    "#shapely几何运算\n",
    "wktpoly=\"POLYGON((103.30266237500007 35.293222467212644,105.45598268750007 35.293222467212644,104.70891237500007 31.62819408858728,100.88567018750007 33.29662370215108,103.30266237500007 35.293222467212644))\"\n",
    "poly= shapely.wkt.loads(wktpoly)\n",
    "print(\"area:\",poly.area)\n",
    "\n",
    "poly.wkt\n",
    "poly.wkb\n",
    "\n",
    "buf=poly.buffer(5.0)\n",
    "print(\"buf:\",buf.area)\n",
    "\n",
    "#多边形和缓冲区之间执行差异分析\n",
    "dif=buf.difference(poly).area\n",
    "print(\"diff:\",dif)\n",
    "\n",
    "\n",
    "# from osgeo  import ogr\n",
    "# shape=ogr.Open(\"polygon.shp\")\n",
    "# layer= shape.GetLayer()\n",
    "# feature= layer.GetNextFeature()\n",
    "# geom= feature.GetGeometryRef()\n",
    "# wkt=geom.ExportToWkt()\n",
    "# poly=ogr.CreateGeometryFromWkt(wkt)\n",
    "# poly.GetEnvelope()\n",
    "\n",
    "\n",
    "\n"
   ]
  },
  {
   "cell_type": "code",
   "execution_count": 17,
   "metadata": {},
   "outputs": [
    {
     "data": {
      "text/plain": [
       "'POINT (-92 37)'"
      ]
     },
     "execution_count": 17,
     "metadata": {},
     "output_type": "execute_result"
    }
   ],
   "source": [
    "# geojson模块实现了python的__geo_interface__规范：该接口允许协作程序之间无缝传递数据，并且以python风格进行无需developer显式导入导出geojson.\n",
    "# 所以如果想将geojson模块创建的点提供给shapely模块使用，只需直接读取geojson module 创建的点对象到shapely对象即可，之后就能够获取其wkt格式的数据。\n",
    "import geojson\n",
    "p=geojson.Point([-92,37])\n",
    "geojs=geojson.dumps(p)\n",
    "geojs\n",
    "\n",
    "\n",
    "\n",
    "import shapely.geometry \n",
    "point= shapely.geometry.shape(p)\n",
    "point.wkt"
   ]
  },
  {
   "cell_type": "code",
   "execution_count": 19,
   "metadata": {},
   "outputs": [
    {
     "name": "stdout",
     "output_type": "stream",
     "text": [
      "1.0 1.0 First\n",
      "3.0 3.0 Second\n",
      "4.0 4.0 Third\n",
      "2.0 2.0 Fourth\n",
      "0.0 0.0 Appended\n"
     ]
    }
   ],
   "source": [
    "import shapefile\n",
    "shp=shapefile.Reader(\"point/point.shp\")\n",
    "for feature in shp.shapeRecords():\n",
    "    point=feature.shape.points[0]\n",
    "    rec=feature.record[0]\n",
    "    print(point[0],point[0],rec)"
   ]
  },
  {
   "cell_type": "code",
   "execution_count": 20,
   "metadata": {},
   "outputs": [
    {
     "name": "stdout",
     "output_type": "stream",
     "text": [
      " GEODB_OID: 4029 (<class 'int'>)\n",
      "  OBJECTID: 4029 (<class 'int'>)\n",
      "  PERMANE0: 61be9239-8f3b-4876-8c4c-0908078bc597 (<class 'str'>)\n",
      "  SOURCE_1: NA (<class 'str'>)\n",
      "  SOURCE_2: 20006 (<class 'str'>)\n",
      "  SOURCE_3: Census Tracts (<class 'str'>)\n",
      "  SOURCE_4: Census Bureau (<class 'str'>)\n",
      "  DATA_SE5: 5 (<class 'str'>)\n",
      "  DISTRIB6: E4 (<class 'str'>)\n",
      "  LOADDATE: 2007-03-13 (<class 'datetime.date'>)\n",
      "   QUALITY: 2 (<class 'str'>)\n",
      "     SCALE: 1 (<class 'str'>)\n",
      "     FCODE: 1734 (<class 'str'>)\n",
      "  STCO_FI7: 22071 (<class 'str'>)\n",
      "STATE_NAME: 22 (<class 'str'>)\n",
      "  COUNTY_8: 71 (<class 'str'>)\n",
      "  CENSUST9: 22071001734 (<class 'str'>)\n",
      " POPULAT10: 1760 (<class 'int'>)\n",
      "  AREASQKM: 264.52661934 (<class 'float'>)\n",
      "   GNIS_ID: NA (<class 'str'>)\n",
      " POPULAT11: 1665 (<class 'int'>)\n",
      " DB2GSE_12: 264526619.341326 (<class 'float'>)\n",
      " DB2GSE_13: 87406.4061920351 (<class 'float'>)\n"
     ]
    },
    {
     "data": {
      "text/plain": [
       "1761"
      ]
     },
     "execution_count": 20,
     "metadata": {},
     "output_type": "execute_result"
    }
   ],
   "source": [
    "import dbfpy3.dbf\n",
    "db= dbfpy3.dbf.Dbf(\"GIS_CensusTract/GIS_CensusTract_poly.dbf\")\n",
    "rec=db[0]\n",
    "print(rec)\n",
    "filed=rec[\"POPULAT10\"]\n",
    "rec[\"POPULAT10\"]=filed+1\n",
    "rec.store()\n",
    "del rec\n",
    "db[0][\"POPULAT10\"]\n"
   ]
  },
  {
   "cell_type": "code",
   "execution_count": 52,
   "metadata": {},
   "outputs": [
    {
     "data": {
      "text/plain": [
       "(-89.8744162216216, 30.161122135135138, -89.1383837783784, 30.661213864864862)"
      ]
     },
     "execution_count": 52,
     "metadata": {},
     "output_type": "execute_result"
    }
   ],
   "source": [
    "import fiona\n",
    "import pprint\n",
    "f=fiona.open(\"GIS_CensusTract/GIS_CensusTract_poly.shp\")\n",
    "f.driver\n",
    "f.crs\n",
    "f.bounds\n",
    "\n",
    "pprint.pprint(f.schema)\n",
    "\n",
    "len(list(f))"
   ]
  },
  {
   "cell_type": "code",
   "execution_count": 57,
   "metadata": {},
   "outputs": [
    {
     "data": {
      "text/plain": [
       "<osgeo.gdal.Dataset; proxy of <Swig Object of type 'GDALDatasetShadow *' at 0x7f929b8b0bd0> >"
      ]
     },
     "execution_count": 57,
     "metadata": {},
     "output_type": "execute_result"
    }
   ],
   "source": [
    "from osgeo import gdal\n",
    "raster=gdal.Open(\"SatImage/SatImage.tif\")\n",
    "raster.RasterCount #波段数量\n",
    "raster.RasterXSize #水平方向的像素\n",
    "raster.RasterYSize #垂直方向的像素\n",
    "\n",
    "from osgeo import gdal_array\n",
    "srcArray=gdal_array.LoadFile(\"SatImage/SatImage.tif\")\n",
    "band1= srcArray[0]\n",
    "band1.shape\n",
    "\n",
    "gdal_array.SaveArray(band1,\"SatImage/band1.jpg\",format=\"JPEG\") #获取第一个波段并另存为jpg图片\n",
    "gdal_array.SaveArray(srcArray[1],\"SatImage/band2.jpg\",format=\"JPEG\")\n",
    "gdal_array.SaveArray(srcArray[2],\"SatImage/band3.jpg\",format=\"JPEG\")"
   ]
  },
  {
   "cell_type": "code",
   "execution_count": 60,
   "metadata": {},
   "outputs": [],
   "source": [
    "try:\n",
    "    import Image\n",
    "    import ImageDraw\n",
    "    \n",
    "except:\n",
    "    from PIL import Image\n",
    "    from PIL import ImageDraw\n",
    "\n",
    "import shapefile\n",
    "r=shapefile.Reader(\"hancock.shp\")\n",
    "xdist=r.bbox[2]-r.bbox[0]\n",
    "ydist=r.bbox[3]-r.bbox[1]\n",
    "iwidth=400\n",
    "iheight=600\n",
    "xratio=iwidth/xdist\n",
    "yratio=iheight/ydist\n",
    "pixels=[]\n",
    "for x,y in r.shapes()[0].points:\n",
    "    px=int(iwidth-((r.bbox[2]-x)*xratio))\n",
    "    py=int((r.bbox[3]-y)*yratio)\n",
    "    pixels.append((px,py))\n",
    "\n",
    "img=Image.new(\"RGB\",(iwidth,iheight),\"White\")\n",
    "draw=ImageDraw.Draw(img)\n",
    "\n",
    "draw.polygon(pixels,fill=\"rgb(203,196,190)\",outline=\"rgb(198,204,189)\")\n",
    "img.save(\"hancock.png\")"
   ]
  },
  {
   "cell_type": "code",
   "execution_count": 62,
   "metadata": {},
   "outputs": [],
   "source": [
    "import shapefile\n",
    "import pngcanvas\n",
    "\n",
    "r=shapefile.Reader(\"hancock.shp\")\n",
    "xdist=r.bbox[2]-r.bbox[0]\n",
    "ydist=r.bbox[3]-r.bbox[1]\n",
    "iwidth=400\n",
    "iheight=600\n",
    "xratio=iwidth/xdist\n",
    "yratio=iheight/ydist\n",
    "pixels=[]\n",
    "for x,y in r.shapes()[0].points:\n",
    "    px=int(iwidth-((r.bbox[2]-x)*xratio))\n",
    "    py=int((r.bbox[3]-y)*yratio)\n",
    "    pixels.append((px,py))\n",
    "\n",
    "c=pngcanvas.PNGCanvas(iwidth,iheight)\n",
    "c.polyline(pixels)\n",
    "f=open(\"hancock_pngcvs.png\",\"wb\")\n",
    "f.write(c.dump())\n",
    "f.close()"
   ]
  },
  {
   "cell_type": "code",
   "execution_count": 63,
   "metadata": {},
   "outputs": [
    {
     "data": {
      "image/png": "[encoded data removed]",
      "text/plain": [
       "<Figure size 640x480 with 1 Axes>"
      ]
     },
     "metadata": {},
     "output_type": "display_data"
    }
   ],
   "source": [
    "import geopandas\n",
    "import matplotlib.pyplot as plt\n",
    "\n",
    "#打开一个shapefile文件并将其转储为GeoJson格式,并使用matplotlib创建地图\n",
    "gdf=geopandas.GeoDataFrame\n",
    "census=gdf.from_file(\"GIS_CensusTract/GIS_CensusTract_poly.shp\")\n",
    "census.plot()\n",
    "plt.show()\n"
   ]
  },
  {
   "cell_type": "code",
   "execution_count": 66,
   "metadata": {},
   "outputs": [
    {
     "data": {
      "text/plain": [
       "''"
      ]
     },
     "execution_count": 66,
     "metadata": {},
     "output_type": "execute_result"
    }
   ],
   "source": [
    "import fpdf\n",
    "\n",
    "#导入png的图片转换为pdf文件\n",
    "\n",
    "pdf=fpdf.FPDF(\"p\",\"mm\",\"A4\")#pdf 图像构建器，毫米为单位，A4纸大小\n",
    "pdf.add_page() #创建一个新的页面\n",
    "pdf.set_font(\"Arial\",\"B\",20)\n",
    "pdf.cell(160,25,\"Hancock Country Boundary\",border=0,align=\"C\")#单元格布局样式：160*25，标题，无边框，居中\n",
    "pdf.image(\"hancock.png\",25,50,110,160)\n",
    "pdf.output(\"map.pdf\",\"F\") # F=文件类型"
   ]
  }
 ],
 "metadata": {
  "kernelspec": {
   "display_name": "Python 3",
   "language": "python",
   "name": "python3"
  },
  "language_info": {
   "codemirror_mode": {
    "name": "ipython",
    "version": 3
   },
   "file_extension": ".py",
   "mimetype": "text/x-python",
   "name": "python",
   "nbconvert_exporter": "python",
   "pygments_lexer": "ipython3",
   "version": "3.8.10"
  },
  "orig_nbformat": 4
 },
 "nbformat": 4,
 "nbformat_minor": 2
}
