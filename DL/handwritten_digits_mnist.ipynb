{
 "cells": [
  {
   "cell_type": "code",
   "execution_count": 5,
   "metadata": {},
   "outputs": [
    {
     "name": "stdout",
     "output_type": "stream",
     "text": [
      "(60000, 784)\n",
      "(60000,)\n",
      "(10000, 784)\n",
      "(10000,)\n"
     ]
    }
   ],
   "source": [
    "from dataset.mnist import load_mnist\n",
    "(train_img,train_lab),(test_img,test_lab)= load_mnist(normalize=False,flatten=True)\n",
    "print(train_img.shape)\n",
    "print(train_lab.shape)\n",
    "print(test_img.shape)\n",
    "print(test_lab.shape)\n",
    "\n"
   ]
  },
  {
   "cell_type": "code",
   "execution_count": 6,
   "metadata": {},
   "outputs": [
    {
     "name": "stdout",
     "output_type": "stream",
     "text": [
      "5\n",
      "(784,)\n"
     ]
    },
    {
     "data": {
      "image/png": "[encoded data removed]",
      "text/plain": [
       "<PIL.Image.Image image mode=L size=28x28>"
      ]
     },
     "metadata": {},
     "output_type": "display_data"
    },
    {
     "name": "stdout",
     "output_type": "stream",
     "text": [
      "7\n"
     ]
    },
    {
     "data": {
      "image/png": "[encoded data removed]",
      "text/plain": [
       "<PIL.Image.Image image mode=L size=28x28>"
      ]
     },
     "metadata": {},
     "output_type": "display_data"
    }
   ],
   "source": [
    "from PIL import Image\n",
    "import numpy as np\n",
    "\n",
    "def img_show(img):\n",
    "    pil_img=Image.fromarray(img)\n",
    "    pil_img.show()\n",
    "\n",
    "\n",
    "train_img0=train_img[0]\n",
    "train_lab0=train_lab[0]\n",
    "print(train_lab0)\n",
    "print(train_img0.shape)\n",
    "real_img0= np.reshape(train_img0,(28,28))\n",
    "img_show(real_img0)\n",
    "\n",
    "test_img0=test_img[0]\n",
    "test_lab0=test_lab[0]\n",
    "print(test_lab0)\n",
    "real_img0= np.reshape(test_img0,(28,28))\n",
    "img_show(real_img0)"
   ]
  },
  {
   "cell_type": "code",
   "execution_count": 7,
   "metadata": {},
   "outputs": [],
   "source": [
    "# 基于三层网络的推理处理\n",
    "import pickle \n",
    "def init_network():\n",
    "    with open(\"mnist_weight.pkl\",\"wb\")as f:\n",
    "        network=pickle.load(f)\n",
    "    return network\n",
    "\n",
    "        \n",
    "        \n",
    "\n"
   ]
  }
 ],
 "metadata": {
  "kernelspec": {
   "display_name": "Python 3",
   "language": "python",
   "name": "python3"
  },
  "language_info": {
   "codemirror_mode": {
    "name": "ipython",
    "version": 3
   },
   "file_extension": ".py",
   "mimetype": "text/x-python",
   "name": "python",
   "nbconvert_exporter": "python",
   "pygments_lexer": "ipython3",
   "version": "3.8.10"
  },
  "orig_nbformat": 4
 },
 "nbformat": 4,
 "nbformat_minor": 2
}
