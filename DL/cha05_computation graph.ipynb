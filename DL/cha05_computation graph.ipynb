{
 "cells": [
  {
   "attachments": {},
   "cell_type": "markdown",
   "metadata": {},
   "source": [
    "\n",
    "计算图（computational graph）\n",
    "\n",
    "正向传播（forward propagation)\n",
    "\n",
    "反向传播（backward propagation):沿着与正方向相反的方向，乘上局部导数\n",
    "\n",
    "链式法则（chain rule）\n",
    "- 假设某个函数由复合函数构成， 则复合函数的导数可以用构成复合函数的各个函数的导数的乘积组成\n",
    "\n",
    "比如:\n",
    "\n",
    "$z=(x+y)^2$  \n",
    "\n",
    "$z=t^2$ \n",
    "\n",
    "$t=x+y$ \n",
    "\n",
    "$$\n",
    "\\frac{\\partial z}{\\partial x}= \\frac{\\partial z}{\\partial t}\\frac{\\partial t}{\\partial x}=2t*1=2(x+y)\n",
    "$$\n",
    "\n",
    "- 反向传播是基于链式法则的\n",
    "- 加法节点的反向传播：将上游的值原封不动的输出到下游,因为对加法公式中的变量求局部导数时始终为1,反向传播时乘上局部导数，值不变\n",
    "- 乘法节点的反向传播：将上游的值乘以正向传播时输入信号的翻转值后传递给下游,以z=xy，对x,y分别求导，再乘以反向传播时的输入信号为例就好理解了，区别于加法节点的反向传播不需要知道正向传播时的输入信号，乘法的反向传播需要正向传播时的输入信号值;因此实现乘法节点的反向传播时，需要保存正向传播时的输入信号\n"
   ]
  },
  {
   "cell_type": "code",
   "execution_count": 16,
   "metadata": {},
   "outputs": [
    {
     "name": "stdout",
     "output_type": "stream",
     "text": [
      "[[ 1.  -0.5]\n",
      " [-2.   3. ]]\n",
      "[[False  True]\n",
      " [ True False]]\n",
      "=====befor======\n",
      "[[ 1.  -0.5]\n",
      " [-2.   3. ]]\n",
      "=====after======\n",
      "[[1. 0.]\n",
      " [0. 3.]]\n",
      "=======\n",
      "[0. 0.]\n",
      "0\n"
     ]
    }
   ],
   "source": [
    "# 计算图在神经网络中应用\n",
    "import numpy as np\n",
    "x=np.array([[1.0,-0.5],[-2.0,3.0]])\n",
    "print(x)\n",
    "mask=(x<=0)\n",
    "print(mask)\n",
    "out=x.copy()\n",
    "print(\"=====befor======\")\n",
    "print(out)\n",
    "out[mask]=0\n",
    "print(\"=====after======\")\n",
    "print(out)\n",
    "\n",
    "\n",
    "\n",
    "\n",
    "print(\"=======\")\n",
    "index= out[[[False,  True], [True, False]]]\n",
    "print(index)\n",
    "index=0\n",
    "print(index)\n",
    "\n",
    "\n"
   ]
  }
 ],
 "metadata": {
  "kernelspec": {
   "display_name": "Python 3",
   "language": "python",
   "name": "python3"
  },
  "language_info": {
   "codemirror_mode": {
    "name": "ipython",
    "version": 3
   },
   "file_extension": ".py",
   "mimetype": "text/x-python",
   "name": "python",
   "nbconvert_exporter": "python",
   "pygments_lexer": "ipython3",
   "version": "3.8.10"
  },
  "orig_nbformat": 4
 },
 "nbformat": 4,
 "nbformat_minor": 2
}
